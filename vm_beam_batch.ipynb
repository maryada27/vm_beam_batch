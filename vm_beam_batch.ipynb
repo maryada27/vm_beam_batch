{
 "cells": [
  {
   "cell_type": "markdown",
   "metadata": {},
   "source": [
    "import python, apache beam modules"
   ]
  },
  {
   "cell_type": "code",
   "execution_count": 161,
   "metadata": {},
   "outputs": [],
   "source": [
    "from datetime import date, datetime\n",
    "from datetime import datetime, timezone\n",
    "import json\n",
    "import apache_beam as beam\n",
    "from typing import NamedTuple\n",
    "from apache_beam import coders\n",
    "from apache_beam.io import ReadFromText\n",
    "from apache_beam.io import WriteToText"
   ]
  },
  {
   "cell_type": "markdown",
   "metadata": {},
   "source": [
    "Reading the data from public GCS bucket "
   ]
  },
  {
   "cell_type": "code",
   "execution_count": 162,
   "metadata": {},
   "outputs": [],
   "source": [
    "pipe = beam.Pipeline()\n",
    "\n",
    "def print_row(row):\n",
    "    print(type(row))\n",
    "# regex = r'^\\d+\\s\\w+?$'\n",
    "ip = (pipe\n",
    "      |beam.io.ReadFromText(\"gs://cloud-samples-data/bigquery/sample-transactions/transactions.csv\", skip_header_lines = True)\n",
    "      |beam.Map(lambda x: x.split(\",\"))\n",
    "    #   |beam.Map(print)\n",
    ")"
   ]
  },
  {
   "cell_type": "markdown",
   "metadata": {},
   "source": [
    "Filtering out the required columns"
   ]
  },
  {
   "cell_type": "code",
   "execution_count": 163,
   "metadata": {},
   "outputs": [],
   "source": [
    "ip = ip|beam.Map(lambda y: [y[0],y[3]])\n",
    "# |beam.Map(print)"
   ]
  },
  {
   "cell_type": "markdown",
   "metadata": {},
   "source": [
    "Find all transactions have a `transaction_amount` greater than `20`"
   ]
  },
  {
   "cell_type": "code",
   "execution_count": 164,
   "metadata": {},
   "outputs": [],
   "source": [
    "ip = ip|beam.Filter(lambda a: float(a[1])>20)\n",
    "# |beam.Map(print)"
   ]
  },
  {
   "cell_type": "markdown",
   "metadata": {},
   "source": [
    "Exclude all transactions made before the year `2010`"
   ]
  },
  {
   "cell_type": "code",
   "execution_count": 165,
   "metadata": {},
   "outputs": [],
   "source": [
    "ip = ip|beam.Filter(lambda d: datetime.strptime(d[0], \"%Y-%m-%d %H:%M:%S UTC\").replace(tzinfo=timezone.utc).year>2010)\n",
    "# |beam.Map(print)"
   ]
  },
  {
   "cell_type": "markdown",
   "metadata": {},
   "source": [
    "Sum the total by `date`"
   ]
  },
  {
   "cell_type": "code",
   "execution_count": 166,
   "metadata": {},
   "outputs": [],
   "source": [
    "ip = ip|beam.Map(lambda d: (str(datetime.strptime(d[0], \"%Y-%m-%d %H:%M:%S UTC\").replace(tzinfo=timezone.utc).date()), float(d[1])))|beam.CombinePerKey(sum)\n",
    "# |beam.Map(print)"
   ]
  },
  {
   "cell_type": "markdown",
   "metadata": {},
   "source": [
    "Save the output into `output/results.csv`"
   ]
  },
  {
   "cell_type": "code",
   "execution_count": 167,
   "metadata": {},
   "outputs": [],
   "source": [
    "ip = ip|beam.Map(lambda row: ', '.join([str(column) for column in row]))"
   ]
  },
  {
   "cell_type": "code",
   "execution_count": 168,
   "metadata": {},
   "outputs": [
    {
     "data": {
      "text/plain": [
       "<PCollection[[168]: Map(print).None] at 0x7f89b3b09ac0>"
      ]
     },
     "execution_count": 168,
     "metadata": {},
     "output_type": "execute_result"
    }
   ],
   "source": [
    "ip|beam.io.WriteToText('output/task1/result', file_name_suffix='.csv', header='date,total_amount' ,shard_name_template='')|beam.Map(print)"
   ]
  },
  {
   "cell_type": "markdown",
   "metadata": {},
   "source": [
    "Group all transform steps into a single `Composite Transform`"
   ]
  },
  {
   "cell_type": "code",
   "execution_count": 169,
   "metadata": {},
   "outputs": [],
   "source": [
    "ip = (pipe\n",
    "      |beam.io.ReadFromText(\"gs://cloud-samples-data/bigquery/sample-transactions/transactions.csv\", skip_header_lines = True)\n",
    "      |beam.Map(lambda x: x.split(\",\"))\n",
    "      |beam.Map(lambda y: [y[0],y[3]])\n",
    "      |beam.Filter(lambda a: float(a[1])>20)\n",
    "      |beam.Filter(lambda d: datetime.strptime(d[0], \"%Y-%m-%d %H:%M:%S UTC\").replace(tzinfo=timezone.utc).year>2010)\n",
    "      |beam.Map(lambda d: (str(datetime.strptime(d[0], \"%Y-%m-%d %H:%M:%S UTC\").replace(tzinfo=timezone.utc).date()), float(d[1])))\n",
    "      |beam.CombinePerKey(sum)\n",
    "      |beam.Map(lambda row: ', '.join([str(column) for column in row]))\n",
    "      |beam.io.WriteToText('output/task2/result', file_name_suffix='.csv', header='date,total_amount' ,shard_name_template='')\n",
    "      |beam.Map(print)\n",
    ")"
   ]
  },
  {
   "cell_type": "code",
   "execution_count": 170,
   "metadata": {},
   "outputs": [
    {
     "name": "stdout",
     "output_type": "stream",
     "text": [
      "output/task1/result.csv\n",
      "output/task2/result.csv\n"
     ]
    },
    {
     "data": {
      "text/plain": [
       "<apache_beam.runners.portability.fn_api_runner.fn_runner.RunnerResult at 0x7f89b4756250>"
      ]
     },
     "execution_count": 170,
     "metadata": {},
     "output_type": "execute_result"
    }
   ],
   "source": [
    "pipe.run()"
   ]
  }
 ],
 "metadata": {
  "kernelspec": {
   "display_name": "Python 3.9.6 64-bit",
   "language": "python",
   "name": "python3"
  },
  "language_info": {
   "codemirror_mode": {
    "name": "ipython",
    "version": 3
   },
   "file_extension": ".py",
   "mimetype": "text/x-python",
   "name": "python",
   "nbconvert_exporter": "python",
   "pygments_lexer": "ipython3",
   "version": "3.9.6"
  },
  "orig_nbformat": 4,
  "vscode": {
   "interpreter": {
    "hash": "aee8b7b246df8f9039afb4144a1f6fd8d2ca17a180786b69acc140d282b71a49"
   }
  }
 },
 "nbformat": 4,
 "nbformat_minor": 2
}
